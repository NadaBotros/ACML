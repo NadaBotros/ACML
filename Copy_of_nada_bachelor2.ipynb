{
  "nbformat": 4,
  "nbformat_minor": 0,
  "metadata": {
    "colab": {
      "name": "Copy of nada_bachelor2.ipynb",
      "provenance": [],
      "collapsed_sections": [],
      "include_colab_link": true
    },
    "kernelspec": {
      "name": "python3",
      "display_name": "Python 3"
    }
  },
  "cells": [
    {
      "cell_type": "markdown",
      "metadata": {
        "id": "view-in-github",
        "colab_type": "text"
      },
      "source": [
        "<a href=\"https://colab.research.google.com/github/NadaBotros/ACML/blob/master/Copy_of_nada_bachelor2.ipynb\" target=\"_parent\"><img src=\"https://colab.research.google.com/assets/colab-badge.svg\" alt=\"Open In Colab\"/></a>"
      ]
    },
    {
      "cell_type": "code",
      "metadata": {
        "id": "ft05tOEc2OGH",
        "colab_type": "code",
        "colab": {}
      },
      "source": [
        "import pandas as pd\n",
        "import numpy as np\n",
        "from random import random as rand\n",
        "from random import sample\n",
        "import tensorflow as tf\n",
        "import keras\n",
        "from keras.models import Sequential\n",
        "from keras.layers import Dense,BatchNormalization,LeakyReLU,UpSampling2D,Dropout,Conv1D,Flatten,Input,Embedding,Activation,TimeDistributed,Conv2D,MaxPool2D,MaxPooling2D,Conv1D,MaxPool1D,MaxPooling1D,Bidirectional,concatenate\n",
        "from keras.models import Model\n",
        "from keras.layers import LSTM\n",
        "from sklearn.ensemble import ExtraTreesRegressor\n",
        "from sklearn.neighbors import KNeighborsRegressor\n",
        "from sklearn.linear_model import LinearRegression\n",
        "from sklearn.linear_model import RidgeCV\n",
        "from sklearn.ensemble import RandomForestClassifier\n",
        "from sklearn.model_selection import train_test_split\n",
        "from sklearn import svm"
      ],
      "execution_count": null,
      "outputs": []
    },
    {
      "cell_type": "code",
      "metadata": {
        "id": "t0_pJMsm2obt",
        "colab_type": "code",
        "colab": {}
      },
      "source": [
        "np.random.seed(69)"
      ],
      "execution_count": null,
      "outputs": []
    },
    {
      "cell_type": "code",
      "metadata": {
        "id": "4J1N604X2pvQ",
        "colab_type": "code",
        "colab": {}
      },
      "source": [
        "data = pd.read_csv('/content/data.csv')"
      ],
      "execution_count": null,
      "outputs": []
    },
    {
      "cell_type": "code",
      "metadata": {
        "id": "ndFeQYIu2vzr",
        "colab_type": "code",
        "colab": {
          "base_uri": "https://localhost:8080/",
          "height": 204
        },
        "outputId": "99c8b00e-7136-4376-adc2-dfed5a918567"
      },
      "source": [
        "data.head()"
      ],
      "execution_count": null,
      "outputs": [
        {
          "output_type": "execute_result",
          "data": {
            "text/html": [
              "<div>\n",
              "<style scoped>\n",
              "    .dataframe tbody tr th:only-of-type {\n",
              "        vertical-align: middle;\n",
              "    }\n",
              "\n",
              "    .dataframe tbody tr th {\n",
              "        vertical-align: top;\n",
              "    }\n",
              "\n",
              "    .dataframe thead th {\n",
              "        text-align: right;\n",
              "    }\n",
              "</style>\n",
              "<table border=\"1\" class=\"dataframe\">\n",
              "  <thead>\n",
              "    <tr style=\"text-align: right;\">\n",
              "      <th></th>\n",
              "      <th>Power</th>\n",
              "      <th>Rpm</th>\n",
              "      <th>Bpm</th>\n",
              "      <th>PedalBlob</th>\n",
              "      <th>HeelBlob</th>\n",
              "      <th>AnkleBlob</th>\n",
              "      <th>KneeBlob</th>\n",
              "      <th>KneeBlob2</th>\n",
              "      <th>HipBlob</th>\n",
              "    </tr>\n",
              "  </thead>\n",
              "  <tbody>\n",
              "    <tr>\n",
              "      <th>0</th>\n",
              "      <td>70</td>\n",
              "      <td>84</td>\n",
              "      <td>93</td>\n",
              "      <td>87.365252</td>\n",
              "      <td>93.664993</td>\n",
              "      <td>153.219998</td>\n",
              "      <td>129.651301</td>\n",
              "      <td>50.348699</td>\n",
              "      <td>57.880403</td>\n",
              "    </tr>\n",
              "    <tr>\n",
              "      <th>1</th>\n",
              "      <td>72</td>\n",
              "      <td>87</td>\n",
              "      <td>94</td>\n",
              "      <td>68.580154</td>\n",
              "      <td>78.741394</td>\n",
              "      <td>144.310995</td>\n",
              "      <td>66.360850</td>\n",
              "      <td>113.639150</td>\n",
              "      <td>23.906760</td>\n",
              "    </tr>\n",
              "    <tr>\n",
              "      <th>2</th>\n",
              "      <td>74</td>\n",
              "      <td>85</td>\n",
              "      <td>96</td>\n",
              "      <td>40.932063</td>\n",
              "      <td>87.590054</td>\n",
              "      <td>148.065035</td>\n",
              "      <td>126.466182</td>\n",
              "      <td>53.533818</td>\n",
              "      <td>47.949046</td>\n",
              "    </tr>\n",
              "    <tr>\n",
              "      <th>3</th>\n",
              "      <td>76</td>\n",
              "      <td>86</td>\n",
              "      <td>97</td>\n",
              "      <td>22.870888</td>\n",
              "      <td>80.794876</td>\n",
              "      <td>147.206440</td>\n",
              "      <td>78.979316</td>\n",
              "      <td>101.020684</td>\n",
              "      <td>37.680583</td>\n",
              "    </tr>\n",
              "    <tr>\n",
              "      <th>4</th>\n",
              "      <td>74</td>\n",
              "      <td>87</td>\n",
              "      <td>97</td>\n",
              "      <td>5.783904</td>\n",
              "      <td>81.411350</td>\n",
              "      <td>143.271388</td>\n",
              "      <td>107.999022</td>\n",
              "      <td>72.000978</td>\n",
              "      <td>33.141440</td>\n",
              "    </tr>\n",
              "  </tbody>\n",
              "</table>\n",
              "</div>"
            ],
            "text/plain": [
              "   Power  Rpm  Bpm  PedalBlob  ...   AnkleBlob    KneeBlob   KneeBlob2    HipBlob\n",
              "0     70   84   93  87.365252  ...  153.219998  129.651301   50.348699  57.880403\n",
              "1     72   87   94  68.580154  ...  144.310995   66.360850  113.639150  23.906760\n",
              "2     74   85   96  40.932063  ...  148.065035  126.466182   53.533818  47.949046\n",
              "3     76   86   97  22.870888  ...  147.206440   78.979316  101.020684  37.680583\n",
              "4     74   87   97   5.783904  ...  143.271388  107.999022   72.000978  33.141440\n",
              "\n",
              "[5 rows x 9 columns]"
            ]
          },
          "metadata": {
            "tags": []
          },
          "execution_count": 454
        }
      ]
    },
    {
      "cell_type": "code",
      "metadata": {
        "id": "lLJko8sq2wmw",
        "colab_type": "code",
        "colab": {}
      },
      "source": [
        "y = data[['Power','Rpm','Bpm']].values"
      ],
      "execution_count": null,
      "outputs": []
    },
    {
      "cell_type": "code",
      "metadata": {
        "id": "8iOHCkEG22TQ",
        "colab_type": "code",
        "colab": {}
      },
      "source": [
        "x = data[['PedalBlob','HeelBlob','KneeBlob','KneeBlob2','HipBlob']].values"
      ],
      "execution_count": null,
      "outputs": []
    },
    {
      "cell_type": "code",
      "metadata": {
        "id": "Yj58gU0x224C",
        "colab_type": "code",
        "colab": {
          "base_uri": "https://localhost:8080/",
          "height": 408
        },
        "outputId": "1f410f7a-cd27-4bdd-9e64-878f869134d3"
      },
      "source": [
        "np.unique(y,return_counts=True)"
      ],
      "execution_count": null,
      "outputs": [
        {
          "output_type": "execute_result",
          "data": {
            "text/plain": [
              "(array([ 41,  42,  43,  44,  45,  46,  47,  48,  57,  58,  59,  60,  61,\n",
              "         62,  63,  64,  67,  68,  70,  71,  72,  73,  74,  75,  76,  77,\n",
              "         78,  79,  80,  81,  82,  83,  84,  85,  86,  87,  88,  89,  90,\n",
              "         91,  92,  93,  94,  95,  96,  97,  98,  99, 100, 101, 102, 103,\n",
              "        104, 105, 106, 107, 108, 109, 110, 111, 112, 113, 114, 115, 116,\n",
              "        117, 118, 119, 120, 121, 122, 123, 124, 125, 126, 127, 128, 129,\n",
              "        130, 131, 132, 133, 134, 135, 136, 137, 139, 140, 141, 142, 143,\n",
              "        144, 152, 153, 154, 155, 156, 157, 158, 159, 160, 163, 166, 168,\n",
              "        169, 170, 171, 172, 173, 174, 175, 176, 177, 178, 179, 180, 181,\n",
              "        182, 183, 184, 185, 186, 187, 188, 189, 190, 191, 192, 193, 194,\n",
              "        195, 196, 197, 198, 199, 200, 201, 202, 203, 204, 205, 207, 209,\n",
              "        210, 212, 217, 219, 228, 234, 235, 236, 237, 238, 239, 240, 241,\n",
              "        243, 255, 256, 257, 258, 259, 260, 261, 262, 279]),\n",
              " array([ 2,  2,  2,  2,  2,  2,  2,  2,  3,  2,  2,  2,  2,  2,  2,  4,  2,\n",
              "         2,  6,  2, 10, 10, 15, 15,  8, 11, 20, 35, 59, 55, 62, 69, 76, 76,\n",
              "        62, 68, 71, 54, 25, 16, 12,  7, 11, 10, 30, 25, 30, 46, 49, 67, 45,\n",
              "        50, 41, 36, 32, 33, 25, 28, 22, 26, 29, 27, 33, 26, 20, 34, 46, 46,\n",
              "        46, 44, 46, 20, 12, 13,  5,  4,  3,  4,  4,  7,  6,  7, 10,  6,  6,\n",
              "         1,  7,  5,  4, 12,  2,  2,  2,  1,  2,  3,  1,  1,  2,  1,  1,  2,\n",
              "         2,  2,  2,  2,  5,  5,  6,  6,  7,  4,  4,  5,  2,  3,  1,  5,  4,\n",
              "         5,  6,  4,  8,  5,  6,  5,  9,  5,  7,  5, 11,  6,  5,  4,  3,  5,\n",
              "         5,  4,  4,  3,  1,  5,  3,  1,  1,  2,  2,  1,  3,  2,  2,  2,  2,\n",
              "         2,  2,  2,  1,  2,  2,  2,  2,  2,  2,  2,  2,  2]))"
            ]
          },
          "metadata": {
            "tags": []
          },
          "execution_count": 506
        }
      ]
    },
    {
      "cell_type": "code",
      "metadata": {
        "id": "6xAk4xVl29pk",
        "colab_type": "code",
        "colab": {}
      },
      "source": [
        "def change_vals(old1,old2,new,y):\n",
        "  for i in range(len(y)):\n",
        "      if (old1<=y[i]<old2):\n",
        "        y[i]= new"
      ],
      "execution_count": null,
      "outputs": []
    },
    {
      "cell_type": "code",
      "metadata": {
        "id": "4GyRcXmd3QVi",
        "colab_type": "code",
        "colab": {
          "base_uri": "https://localhost:8080/",
          "height": 51
        },
        "outputId": "d7dd0f5b-9975-4d71-fc8b-0aed24866544"
      },
      "source": [
        "X = lX.copy()\n",
        "Y = lY.copy()\n",
        "steps=9\n",
        "for i in range(0,115,steps):\n",
        "  change_vals(i,i+steps,i,Y)\n",
        "np.unique(Y,return_counts=True)"
      ],
      "execution_count": null,
      "outputs": [
        {
          "output_type": "execute_result",
          "data": {
            "text/plain": [
              "(array([  0.,   9.,  18.,  27.,  36.,  45.,  54.,  63.,  72.,  81.,  90.,\n",
              "        108.]), array([81, 87, 66, 94, 89, 81, 88, 58, 42, 53, 12,  7]))"
            ]
          },
          "metadata": {
            "tags": []
          },
          "execution_count": 422
        }
      ]
    },
    {
      "cell_type": "code",
      "metadata": {
        "id": "ZiyKb4HD3dNL",
        "colab_type": "code",
        "colab": {
          "base_uri": "https://localhost:8080/",
          "height": 255
        },
        "outputId": "52927eb8-1d89-4182-b375-f7e2f836d094"
      },
      "source": [
        "model = Sequential()\n",
        "model.add((LSTM(10, return_sequences=True, input_shape=(1,5))))\n",
        "model.add((LSTM(100, return_sequences=False)))\n",
        "model.add((Dense(3, activation='relu')))\n",
        "model.compile(loss='mse',\n",
        "            optimizer='rmsprop', #keras.optimizers.RMSprop(1e-5)\n",
        "            metrics=['accuracy'])\n",
        "model.summary()"
      ],
      "execution_count": null,
      "outputs": [
        {
          "output_type": "stream",
          "text": [
            "Model: \"sequential_53\"\n",
            "_________________________________________________________________\n",
            "Layer (type)                 Output Shape              Param #   \n",
            "=================================================================\n",
            "lstm_79 (LSTM)               (None, 1, 10)             640       \n",
            "_________________________________________________________________\n",
            "lstm_80 (LSTM)               (None, 100)               44400     \n",
            "_________________________________________________________________\n",
            "dense_200 (Dense)            (None, 3)                 303       \n",
            "=================================================================\n",
            "Total params: 45,343\n",
            "Trainable params: 45,343\n",
            "Non-trainable params: 0\n",
            "_________________________________________________________________\n"
          ],
          "name": "stdout"
        }
      ]
    },
    {
      "cell_type": "code",
      "metadata": {
        "id": "L-6L0BTu5uXa",
        "colab_type": "code",
        "colab": {}
      },
      "source": [
        "\n",
        "save_best=keras.callbacks.ModelCheckpoint(f\"/content/model.h5\",\n",
        "                                                  monitor='val_loss', verbose=1,\n",
        "                                                  save_best_only=True)\n",
        "\n",
        "early_stop=keras.callbacks.EarlyStopping(monitor='val_loss', min_delta=0,\n",
        "                                                  patience=15, verbose=1, mode='auto',\n",
        "                                                  restore_best_weights=True)\n"
      ],
      "execution_count": null,
      "outputs": []
    },
    {
      "cell_type": "code",
      "metadata": {
        "id": "mFE72-scQzw-",
        "colab_type": "code",
        "colab": {
          "base_uri": "https://localhost:8080/",
          "height": 34
        },
        "outputId": "0ed70dd3-e200-457d-c210-c3af3f1d1fcd"
      },
      "source": [
        "print(x.shape,y.shape)"
      ],
      "execution_count": null,
      "outputs": [
        {
          "output_type": "stream",
          "text": [
            "(758, 5) (758, 3)\n"
          ],
          "name": "stdout"
        }
      ]
    },
    {
      "cell_type": "code",
      "metadata": {
        "id": "5PGGvGqVRQe5",
        "colab_type": "code",
        "colab": {}
      },
      "source": [
        "x_reshaped = x.reshape((len(x),1,5))"
      ],
      "execution_count": null,
      "outputs": []
    },
    {
      "cell_type": "code",
      "metadata": {
        "id": "5DhkPimN52sR",
        "colab_type": "code",
        "colab": {}
      },
      "source": [
        "history = model.fit(x_reshaped,np.rint(y),\n",
        "        batch_size=132,epochs=2000,verbose=1,\n",
        "        validation_data=(x_reshaped,y),\n",
        "        callbacks=[save_best,early_stop],\n",
        "        shuffle=True)"
      ],
      "execution_count": null,
      "outputs": []
    },
    {
      "cell_type": "code",
      "metadata": {
        "id": "ANaNaGL-6ANJ",
        "colab_type": "code",
        "colab": {
          "base_uri": "https://localhost:8080/",
          "height": 295
        },
        "outputId": "7d4c70c5-3e1f-4c95-a954-3777a87c3a34"
      },
      "source": [
        "import matplotlib.pyplot as plt\n",
        "plt.plot(history.history['loss'])\n",
        "plt.plot(history.history['val_loss'])\n",
        "plt.title('model loss')\n",
        "plt.ylabel('loss')\n",
        "plt.xlabel('epoch')\n",
        "plt.legend(['train', 'test'], loc='upper left')\n",
        "plt.show()"
      ],
      "execution_count": null,
      "outputs": [
        {
          "output_type": "display_data",
          "data": {
            "image/png": "[encoded data removed]",
            "text/plain": [
              "<Figure size 432x288 with 1 Axes>"
            ]
          },
          "metadata": {
            "tags": [],
            "needs_background": "light"
          }
        }
      ]
    },
    {
      "cell_type": "code",
      "metadata": {
        "id": "PGF0Qyyw7eqk",
        "colab_type": "code",
        "colab": {}
      },
      "source": [
        "x_reshaped = x.reshape((len(X),1,5))"
      ],
      "execution_count": null,
      "outputs": []
    },
    {
      "cell_type": "code",
      "metadata": {
        "id": "nJ3FI1gJ63A6",
        "colab_type": "code",
        "colab": {}
      },
      "source": [
        "i=50\n",
        "pred = np.rint(model.predict(x_reshaped[:i]))\n",
        "real = np.rint(y[:i])"
      ],
      "execution_count": null,
      "outputs": []
    },
    {
      "cell_type": "code",
      "metadata": {
        "id": "Yk2UFTis7cih",
        "colab_type": "code",
        "colab": {
          "base_uri": "https://localhost:8080/",
          "height": 1000
        },
        "outputId": "c7383056-f0d0-4d47-e957-f6da3654efcb"
      },
      "source": [
        "c=0\n",
        "for i in range(len(pred)):\n",
        "  print(f\"real: {real[i]}\\npred: {pred[i]}\")\n",
        "  print()\n",
        "  c+=1\n",
        "\n",
        "print(c)"
      ],
      "execution_count": null,
      "outputs": [
        {
          "output_type": "stream",
          "text": [
            "real: [70. 84. 93.]\n",
            "pred: [136.  86. 113.]\n",
            "\n",
            "real: [72. 87. 94.]\n",
            "pred: [136.  86. 113.]\n",
            "\n",
            "real: [74. 85. 96.]\n",
            "pred: [135.  86. 113.]\n",
            "\n",
            "real: [76. 86. 97.]\n",
            "pred: [136.  86. 113.]\n",
            "\n",
            "real: [74. 87. 97.]\n",
            "pred: [118.  87. 108.]\n",
            "\n",
            "real: [74. 87. 98.]\n",
            "pred: [136.  86. 113.]\n",
            "\n",
            "real: [77. 87. 99.]\n",
            "pred: [101.  88. 104.]\n",
            "\n",
            "real: [67. 87. 99.]\n",
            "pred: [136.  86. 113.]\n",
            "\n",
            "real: [ 67.  87. 100.]\n",
            "pred: [ 93.  88. 101.]\n",
            "\n",
            "real: [ 74.  86. 101.]\n",
            "pred: [136.  86. 113.]\n",
            "\n",
            "real: [ 82.  87. 101.]\n",
            "pred: [106.  88. 105.]\n",
            "\n",
            "real: [ 72.  87. 101.]\n",
            "pred: [136.  86. 113.]\n",
            "\n",
            "real: [ 72.  87. 101.]\n",
            "pred: [135.  86. 113.]\n",
            "\n",
            "real: [ 79.  87. 100.]\n",
            "pred: [136.  86. 113.]\n",
            "\n",
            "real: [ 83.  88. 100.]\n",
            "pred: [136.  86. 113.]\n",
            "\n",
            "real: [ 73.  88. 100.]\n",
            "pred: [133.  86. 112.]\n",
            "\n",
            "real: [ 73.  88. 100.]\n",
            "pred: [136.  86. 113.]\n",
            "\n",
            "real: [ 78.  88. 101.]\n",
            "pred: [89. 88. 99.]\n",
            "\n",
            "real: [ 78.  88. 101.]\n",
            "pred: [136.  86. 113.]\n",
            "\n",
            "real: [ 78.  88. 101.]\n",
            "pred: [121.  87. 109.]\n",
            "\n",
            "real: [ 78.  89. 101.]\n",
            "pred: [89. 88. 99.]\n",
            "\n",
            "real: [ 78.  89. 101.]\n",
            "pred: [89. 88. 99.]\n",
            "\n",
            "real: [ 79.  89. 101.]\n",
            "pred: [136.  86. 113.]\n",
            "\n",
            "real: [ 81.  89. 100.]\n",
            "pred: [89. 88. 99.]\n",
            "\n",
            "real: [ 87.  88. 100.]\n",
            "pred: [89. 88. 99.]\n",
            "\n",
            "real: [ 87.  89. 100.]\n",
            "pred: [89. 88. 99.]\n",
            "\n",
            "real: [ 72.  89. 100.]\n",
            "pred: [136.  86. 113.]\n",
            "\n",
            "real: [ 75.  89. 100.]\n",
            "pred: [ 91.  88. 100.]\n",
            "\n",
            "real: [ 80.  88. 100.]\n",
            "pred: [89. 88. 99.]\n",
            "\n",
            "real: [ 80.  88. 100.]\n",
            "pred: [89. 88. 99.]\n",
            "\n",
            "real: [ 74.  88. 100.]\n",
            "pred: [89. 88. 99.]\n",
            "\n",
            "real: [77. 88. 99.]\n",
            "pred: [ 95.  88. 101.]\n",
            "\n",
            "real: [79. 88. 99.]\n",
            "pred: [136.  86. 113.]\n",
            "\n",
            "real: [83. 89. 99.]\n",
            "pred: [101.  88. 103.]\n",
            "\n",
            "real: [73. 89. 99.]\n",
            "pred: [136.  86. 113.]\n",
            "\n",
            "real: [73. 89. 99.]\n",
            "pred: [117.  87. 108.]\n",
            "\n",
            "real: [76. 89. 99.]\n",
            "pred: [89. 88. 99.]\n",
            "\n",
            "real: [74. 88. 99.]\n",
            "pred: [133.  86. 113.]\n",
            "\n",
            "real: [85. 88. 99.]\n",
            "pred: [136.  86. 113.]\n",
            "\n",
            "real: [85. 88. 98.]\n",
            "pred: [134.  86. 113.]\n",
            "\n",
            "real: [71. 88. 98.]\n",
            "pred: [136.  86. 113.]\n",
            "\n",
            "real: [78. 88. 97.]\n",
            "pred: [136.  86. 113.]\n",
            "\n",
            "real: [78. 88. 97.]\n",
            "pred: [136.  86. 113.]\n",
            "\n",
            "real: [77. 88. 97.]\n",
            "pred: [136.  86. 113.]\n",
            "\n",
            "real: [80. 89. 98.]\n",
            "pred: [135.  86. 113.]\n",
            "\n",
            "real: [85. 87. 98.]\n",
            "pred: [136.  86. 113.]\n",
            "\n",
            "real: [78. 86. 99.]\n",
            "pred: [133.  86. 112.]\n",
            "\n",
            "real: [ 78.  86. 100.]\n",
            "pred: [136.  86. 113.]\n",
            "\n",
            "real: [ 70.  89. 100.]\n",
            "pred: [89. 88. 99.]\n",
            "\n",
            "real: [ 75.  89. 101.]\n",
            "pred: [136.  86. 113.]\n",
            "\n",
            "50\n"
          ],
          "name": "stdout"
        }
      ]
    },
    {
      "cell_type": "code",
      "metadata": {
        "id": "IeWEuvCSF3Oo",
        "colab_type": "code",
        "colab": {}
      },
      "source": [
        "X = x.copy()"
      ],
      "execution_count": null,
      "outputs": []
    },
    {
      "cell_type": "code",
      "metadata": {
        "id": "rQ5xRVZT77dK",
        "colab_type": "code",
        "colab": {}
      },
      "source": [
        "X = set(tuple(element) for element in X)"
      ],
      "execution_count": null,
      "outputs": []
    },
    {
      "cell_type": "code",
      "metadata": {
        "id": "tr9Ut7-9F4zP",
        "colab_type": "code",
        "colab": {
          "base_uri": "https://localhost:8080/",
          "height": 34
        },
        "outputId": "a6980d38-6751-4d09-c800-d3e51d1e39ec"
      },
      "source": [
        "len(X)"
      ],
      "execution_count": null,
      "outputs": [
        {
          "output_type": "execute_result",
          "data": {
            "text/plain": [
              "661"
            ]
          },
          "metadata": {
            "tags": []
          },
          "execution_count": 169
        }
      ]
    },
    {
      "cell_type": "code",
      "metadata": {
        "id": "eKnEDyXHKVRg",
        "colab_type": "code",
        "colab": {
          "base_uri": "https://localhost:8080/",
          "height": 34
        },
        "outputId": "6b87f9f3-d6b0-4b70-ecf3-236042984680"
      },
      "source": [
        "lX[0]"
      ],
      "execution_count": null,
      "outputs": [
        {
          "output_type": "execute_result",
          "data": {
            "text/plain": [
              "array([195, 101, 129])"
            ]
          },
          "metadata": {
            "tags": []
          },
          "execution_count": 188
        }
      ]
    },
    {
      "cell_type": "code",
      "metadata": {
        "id": "SdMTSUdgH6-e",
        "colab_type": "code",
        "colab": {}
      },
      "source": [
        "lX =[]\n",
        "lY=[]\n",
        "for i in range(len(data)):\n",
        "  Dat = data[(data.Power==x[i,0]) & (data.Rpm==x[i,1]) & (data.Bpm==x[i,2]) ]\n",
        "  avged = Dat[['PedalBlob']].mean()\n",
        "  lX.append(Dat[['Power','Rpm','Bpm']].mean().values)\n",
        "  lY.append(avged[0])\n",
        "  # if (len(Dat)>1):\n",
        "  # else:\n",
        "  #     lY.append(avged[0])\n"
      ],
      "execution_count": null,
      "outputs": []
    },
    {
      "cell_type": "code",
      "metadata": {
        "id": "SFqJa-P_LT_p",
        "colab_type": "code",
        "colab": {
          "base_uri": "https://localhost:8080/",
          "height": 34
        },
        "outputId": "76a1d2a8-f627-42f4-a762-199c9b8f88c5"
      },
      "source": [
        "lX= np.array(lX)\n",
        "lY= np.array(lY)\n",
        "lX.shape"
      ],
      "execution_count": null,
      "outputs": [
        {
          "output_type": "execute_result",
          "data": {
            "text/plain": [
              "(758, 3)"
            ]
          },
          "metadata": {
            "tags": []
          },
          "execution_count": 367
        }
      ]
    },
    {
      "cell_type": "code",
      "metadata": {
        "id": "jX1gKbClIWlH",
        "colab_type": "code",
        "colab": {}
      },
      "source": [
        "lX= []\n",
        "for X_ in X:\n",
        "  print(X_)\n",
        "  lX.append(np.array(X_))"
      ],
      "execution_count": null,
      "outputs": []
    },
    {
      "cell_type": "code",
      "metadata": {
        "id": "YL9kt8TWIYd5",
        "colab_type": "code",
        "colab": {}
      },
      "source": [
        "lX = np.array(lX)"
      ],
      "execution_count": null,
      "outputs": []
    },
    {
      "cell_type": "code",
      "metadata": {
        "id": "nZsLUxhhIjUY",
        "colab_type": "code",
        "colab": {
          "base_uri": "https://localhost:8080/",
          "height": 34
        },
        "outputId": "7e000a9b-6aa9-4967-9369-650e9d6a5dda"
      },
      "source": [
        "lX.shape"
      ],
      "execution_count": null,
      "outputs": [
        {
          "output_type": "execute_result",
          "data": {
            "text/plain": [
              "(661, 3)"
            ]
          },
          "metadata": {
            "tags": []
          },
          "execution_count": 173
        }
      ]
    },
    {
      "cell_type": "code",
      "metadata": {
        "id": "qFMMofmEI3d9",
        "colab_type": "code",
        "colab": {
          "base_uri": "https://localhost:8080/",
          "height": 51
        },
        "outputId": "503c7b01-b254-4f12-d35f-48ece745585c"
      },
      "source": [
        ""
      ],
      "execution_count": null,
      "outputs": [
        {
          "output_type": "stream",
          "text": [
            "[110  80 119]\n",
            "[120  83 120]\n"
          ],
          "name": "stdout"
        }
      ]
    },
    {
      "cell_type": "code",
      "metadata": {
        "id": "hq30OGXjJGwe",
        "colab_type": "code",
        "colab": {}
      },
      "source": [
        ""
      ],
      "execution_count": null,
      "outputs": []
    }
  ]
}